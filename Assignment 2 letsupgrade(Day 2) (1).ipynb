{
 "cells": [
  {
   "cell_type": "markdown",
   "metadata": {},
   "source": [
    "# Question 1"
   ]
  },
  {
   "cell_type": "code",
   "execution_count": 4,
   "metadata": {},
   "outputs": [
    {
     "name": "stdout",
     "output_type": "stream",
     "text": [
      "1\n",
      "23\n",
      "18\n",
      "36\n",
      "45\n",
      "97\n",
      "65\n",
      "99\n",
      "90\n",
      "48\n",
      "[18, 36, 90, 48]\n"
     ]
    }
   ],
   "source": [
    "#appending even number to a list\n",
    "l=[]\n",
    "for i in range(1,11):\n",
    "    i=int(input())\n",
    "    if i%2==0:\n",
    "         l.append(i)\n",
    "print(l)"
   ]
  },
  {
   "cell_type": "markdown",
   "metadata": {},
   "source": [
    "# Question 2"
   ]
  },
  {
   "cell_type": "code",
   "execution_count": 4,
   "metadata": {},
   "outputs": [
    {
     "name": "stdout",
     "output_type": "stream",
     "text": [
      "[1, 4, 9, 16]\n",
      "[144, 169, 196, 225]\n"
     ]
    }
   ],
   "source": [
    "#list comprehension\n",
    "l=[]\n",
    "for i in range(1,16):\n",
    "    l.append(i**2)\n",
    "print(l[:4])\n",
    "print(l[-4:])\n"
   ]
  },
  {
   "cell_type": "markdown",
   "metadata": {},
   "source": [
    "# Question 3"
   ]
  },
  {
   "cell_type": "code",
   "execution_count": 1,
   "metadata": {},
   "outputs": [
    {
     "name": "stdout",
     "output_type": "stream",
     "text": [
      "8\n",
      "{1: 1, 2: 4, 3: 9, 4: 16, 5: 25, 6: 36, 7: 49, 8: 64}\n"
     ]
    }
   ],
   "source": [
    "#dictionaries\n",
    "n=int(input())\n",
    "d =dict()\n",
    "for x in range(1,n+1):\n",
    "    d[x]=x*x\n",
    "print(d)"
   ]
  },
  {
   "cell_type": "markdown",
   "metadata": {},
   "source": [
    "# Question 4"
   ]
  },
  {
   "cell_type": "code",
   "execution_count": 5,
   "metadata": {},
   "outputs": [
    {
     "name": "stdout",
     "output_type": "stream",
     "text": [
      "4\n",
      "UP 5\n",
      "DOWN 3\n",
      "LEFT 3\n",
      "RIGHT 2\n",
      "2\n"
     ]
    }
   ],
   "source": [
    "#distance between two points\n",
    "import math\n",
    "x, y=0, 0\n",
    "number=int(input())\n",
    "while number!=0:\n",
    "    step=input()\n",
    "\n",
    "    if step==\"\":\n",
    "        break\n",
    "\n",
    "    else:\n",
    "        step=step.split(\" \")\n",
    "\n",
    "        if step[0]==\"UP\":\n",
    "            y+=int(step[1])\n",
    "        elif step[0]==\"DOWN\":\n",
    "            y-=int(step[1])\n",
    "        elif step[0]==\"LEFT\":\n",
    "            x-=int(step[1])\n",
    "        elif step[0]==\"RIGHT\":\n",
    "            x+=int(step[1])\n",
    "    number-=1\n",
    "\n",
    "c=round(math.sqrt(x**2 + y**2),0)\n",
    "print(int(c))"
   ]
  }
 ],
 "metadata": {
  "kernelspec": {
   "display_name": "Python 3",
   "language": "python",
   "name": "python3"
  },
  "language_info": {
   "codemirror_mode": {
    "name": "ipython",
    "version": 3
   },
   "file_extension": ".py",
   "mimetype": "text/x-python",
   "name": "python",
   "nbconvert_exporter": "python",
   "pygments_lexer": "ipython3",
   "version": "3.8.3"
  }
 },
 "nbformat": 4,
 "nbformat_minor": 4
}
